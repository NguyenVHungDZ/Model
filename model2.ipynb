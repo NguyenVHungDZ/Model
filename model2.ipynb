{
 "cells": [
  {
   "cell_type": "code",
   "execution_count": 1,
   "id": "1a22b74b",
   "metadata": {},
   "outputs": [
    {
     "name": "stdout",
     "output_type": "stream",
     "text": [
      "Leaving and Returning Patterns by Day Type:\n",
      "holiday: Leaving at 10:00:00, Returning at 16:00:00\n",
      "weekday: Leaving at 08:00:00, Returning at 18:00:00\n",
      "weekend: Leaving at 10:00:00, Returning at 16:00:00\n",
      "Patterns saved to patterns.pkl\n"
     ]
    }
   ],
   "source": [
    "import pandas as pd\n",
    "import pickle\n",
    "\n",
    "# Load the data from the CSV file\n",
    "df = pd.read_csv('home_data_2023.csv')\n",
    "\n",
    "# Calculate the most frequent leaving and returning times for each day_type\n",
    "patterns = {}\n",
    "for day_type in df['day_type'].unique():\n",
    "    subset = df[df['day_type'] == day_type]\n",
    "    leaving_mode = subset['leaving_time'].mode()[0]\n",
    "    returning_mode = subset['returning_time'].mode()[0]\n",
    "    patterns[day_type] = {'leaving_time': leaving_mode, 'returning_time': returning_mode}\n",
    "\n",
    "# Print the patterns for verification\n",
    "print(\"Leaving and Returning Patterns by Day Type:\")\n",
    "for day_type, times in patterns.items():\n",
    "    print(f\"{day_type}: Leaving at {times['leaving_time']}, Returning at {times['returning_time']}\")\n",
    "\n",
    "# Save the patterns dictionary to a .pkl file\n",
    "with open('patterns.pkl', 'wb') as f:\n",
    "    pickle.dump(patterns, f)\n",
    "print(\"Patterns saved to patterns.pkl\")"
   ]
  }
 ],
 "metadata": {
  "kernelspec": {
   "display_name": ".venv",
   "language": "python",
   "name": "python3"
  },
  "language_info": {
   "codemirror_mode": {
    "name": "ipython",
    "version": 3
   },
   "file_extension": ".py",
   "mimetype": "text/x-python",
   "name": "python",
   "nbconvert_exporter": "python",
   "pygments_lexer": "ipython3",
   "version": "3.12.6"
  }
 },
 "nbformat": 4,
 "nbformat_minor": 5
}
